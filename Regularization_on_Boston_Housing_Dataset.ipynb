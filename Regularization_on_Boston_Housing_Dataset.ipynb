{
  "nbformat": 4,
  "nbformat_minor": 0,
  "metadata": {
    "colab": {
      "provenance": [],
      "gpuType": "T4",
      "include_colab_link": true
    },
    "kernelspec": {
      "name": "python3",
      "display_name": "Python 3"
    },
    "language_info": {
      "name": "python"
    },
    "accelerator": "GPU"
  },
  "cells": [
    {
      "cell_type": "markdown",
      "metadata": {
        "id": "view-in-github",
        "colab_type": "text"
      },
      "source": [
        "<a href=\"https://colab.research.google.com/github/Radhika-0403/Machine-Learning/blob/main/Regularization_on_Boston_Housing_Dataset.ipynb\" target=\"_parent\"><img src=\"https://colab.research.google.com/assets/colab-badge.svg\" alt=\"Open In Colab\"/></a>"
      ]
    },
    {
      "cell_type": "code",
      "execution_count": null,
      "metadata": {
        "id": "5xmTKF4QFPzq"
      },
      "outputs": [],
      "source": [
        "import pandas as pd\n",
        "import seaborn as sns\n",
        "import numpy as np\n",
        "import matplotlib.pyplot as plt\n",
        "from sklearn.model_selection import cross_val_score, train_test_split\n",
        "from sklearn.linear_model import Ridge, Lasso, ElasticNet\n",
        "from sklearn.preprocessing import StandardScaler, PolynomialFeatures\n",
        "from sklearn.pipeline import make_pipeline\n",
        "from sklearn.metrics import mean_squared_error\n",
        "from scipy import stats\n",
        "from sklearn.impute import SimpleImputer"
      ]
    },
    {
      "cell_type": "code",
      "source": [
        "data = pd.read_csv('/content/HousingData.csv')"
      ],
      "metadata": {
        "id": "pNgj1C3RTzMT"
      },
      "execution_count": null,
      "outputs": []
    },
    {
      "cell_type": "code",
      "source": [
        "# Identify missing values in the dataset\n",
        "missing_values = data.isna().sum()\n",
        "print(\"Missing values before imputation:\")\n",
        "print(missing_values)\n",
        "\n",
        "# Create an imputer to fill missing values with the mean\n",
        "imputer = SimpleImputer(strategy='mean')\n",
        "\n",
        "# Specify columns to impute (assuming all columns contain numerical data)\n",
        "columns_to_impute = data.columns\n",
        "\n",
        "# Apply imputer to the specified columns\n",
        "data1 = pd.DataFrame(imputer.fit_transform(data[columns_to_impute]), columns=columns_to_impute)\n",
        "\n",
        "# Check if there are any remaining missing values after imputation\n",
        "missing_values_imputed = data1.isna().sum()\n",
        "print(\"Missing values after imputation:\")\n",
        "print(missing_values_imputed)\n"
      ],
      "metadata": {
        "colab": {
          "base_uri": "https://localhost:8080/"
        },
        "id": "t0XHDniL3ucq",
        "outputId": "af9c3cff-2e27-4094-9f1f-eb2f99271f4d"
      },
      "execution_count": null,
      "outputs": [
        {
          "output_type": "stream",
          "name": "stdout",
          "text": [
            "Missing values before imputation:\n",
            "CRIM       20\n",
            "ZN         20\n",
            "INDUS      20\n",
            "CHAS       20\n",
            "NOX         0\n",
            "RM          0\n",
            "AGE        20\n",
            "DIS         0\n",
            "RAD         0\n",
            "TAX         0\n",
            "PTRATIO     0\n",
            "B           0\n",
            "LSTAT      20\n",
            "MEDV        0\n",
            "dtype: int64\n",
            "Missing values after imputation:\n",
            "CRIM       0\n",
            "ZN         0\n",
            "INDUS      0\n",
            "CHAS       0\n",
            "NOX        0\n",
            "RM         0\n",
            "AGE        0\n",
            "DIS        0\n",
            "RAD        0\n",
            "TAX        0\n",
            "PTRATIO    0\n",
            "B          0\n",
            "LSTAT      0\n",
            "MEDV       0\n",
            "dtype: int64\n"
          ]
        }
      ]
    },
    {
      "cell_type": "code",
      "source": [
        "# Data preprocessing\n",
        "X = data1.drop(columns=['MEDV'])\n",
        "y = data1['MEDV']\n",
        "\n",
        "# Impute missing values\n",
        "imputer = SimpleImputer(strategy='median')\n",
        "X_imputed = imputer.fit_transform(X)\n",
        "\n",
        "scaler = StandardScaler()\n",
        "X_scaled = scaler.fit_transform(X_imputed)"
      ],
      "metadata": {
        "id": "xP1-R4RrUgsd"
      },
      "execution_count": null,
      "outputs": []
    },
    {
      "cell_type": "code",
      "source": [
        "# Feature importance\n",
        "ridge = Ridge()\n",
        "ridge.fit(X_scaled, y)\n",
        "feature_importance = pd.Series(ridge.coef_, index=X.columns).sort_values(ascending=False)\n",
        "print(\"Feature Importance:\")\n",
        "print(feature_importance)"
      ],
      "metadata": {
        "colab": {
          "base_uri": "https://localhost:8080/"
        },
        "id": "HiVMahy-Upig",
        "outputId": "539be95a-41cc-4671-e1bf-a58b72554efa"
      },
      "execution_count": null,
      "outputs": [
        {
          "output_type": "stream",
          "name": "stdout",
          "text": [
            "Feature Importance:\n",
            "RM         2.889439\n",
            "RAD        2.280176\n",
            "ZN         0.914957\n",
            "B          0.851427\n",
            "CHAS       0.764223\n",
            "INDUS     -0.276578\n",
            "AGE       -0.293948\n",
            "CRIM      -0.936077\n",
            "TAX       -1.730023\n",
            "NOX       -1.915433\n",
            "PTRATIO   -2.001163\n",
            "DIS       -3.109234\n",
            "LSTAT     -3.250680\n",
            "dtype: float64\n"
          ]
        }
      ]
    },
    {
      "cell_type": "code",
      "source": [
        "# Model training and evaluation\n",
        "pipeline = make_pipeline(StandardScaler(), Ridge())\n",
        "scores = cross_val_score(pipeline, X_scaled, y, cv=5, scoring='neg_mean_squared_error')\n",
        "mse = -scores.mean()\n",
        "print(f\"Mean Squared Error: {mse}\")"
      ],
      "metadata": {
        "colab": {
          "base_uri": "https://localhost:8080/"
        },
        "id": "r4yFg4WaUpVg",
        "outputId": "c22004df-3549-4040-c56c-a0776f555832"
      },
      "execution_count": null,
      "outputs": [
        {
          "output_type": "stream",
          "name": "stdout",
          "text": [
            "Mean Squared Error: 37.58952394700285\n"
          ]
        }
      ]
    },
    {
      "cell_type": "code",
      "source": [
        "# Polynomial regression\n",
        "poly = PolynomialFeatures(degree=1)\n",
        "X_poly = poly.fit_transform(X_scaled)\n",
        "model = Ridge()\n",
        "model.fit(X_poly, y)\n",
        "poly_score = cross_val_score(model, X_poly, y, cv=5, scoring='neg_mean_squared_error').mean()\n",
        "print(f\"Polynomial Regression Mean Squared Error: {-poly_score}\")"
      ],
      "metadata": {
        "colab": {
          "base_uri": "https://localhost:8080/"
        },
        "id": "LdDkACz2Uuvz",
        "outputId": "439b1496-4e71-41bf-cd10-ee6ad4a13255"
      },
      "execution_count": null,
      "outputs": [
        {
          "output_type": "stream",
          "name": "stdout",
          "text": [
            "Polynomial Regression Mean Squared Error: 37.52761003739287\n"
          ]
        }
      ]
    },
    {
      "cell_type": "code",
      "source": [
        "# 1. Feature Engineering: Create polynomial features\n",
        "poly = PolynomialFeatures(degree=2)\n",
        "X_poly = poly.fit_transform(X)\n",
        "\n",
        "# Split the data into training and testing sets\n",
        "X_train, X_test, y_train, y_test = train_test_split(X_poly, y, test_size=0.2, random_state=42)\n",
        "\n",
        "# 2. Hyperparameter Tuning: Perform grid search for alpha in Ridge regression\n",
        "param_grid = {'alpha': [10.0]}\n",
        "ridge = Ridge()\n",
        "grid_search = GridSearchCV(ridge, param_grid, cv=5, scoring='neg_mean_squared_error')\n",
        "grid_search.fit(X_train, y_train)\n",
        "\n",
        "# Get the best hyperparameters\n",
        "best_alpha = grid_search.best_params_['alpha']\n",
        "print(\"Best alpha:\", best_alpha)\n",
        "\n",
        "# Use the best model for prediction\n",
        "best_model = grid_search.best_estimator_\n",
        "y_pred = best_model.predict(X_test)\n",
        "\n",
        "# 3. Regularization: Train a Ridge regression model with the best alpha\n",
        "ridge = Ridge(alpha=best_alpha)\n",
        "ridge.fit(X_train, y_train)\n",
        "\n",
        "# Evaluate the model on the testing set\n",
        "mse = mean_squared_error(y_test, y_pred)\n",
        "print(\"Mean Squared Error:\", mse)"
      ],
      "metadata": {
        "colab": {
          "base_uri": "https://localhost:8080/"
        },
        "id": "hoXFl3SV4mxB",
        "outputId": "84d0c707-1fd4-4e2f-cfc0-8d9d144f0e07"
      },
      "execution_count": null,
      "outputs": [
        {
          "output_type": "stream",
          "name": "stdout",
          "text": [
            "Best alpha: 10.0\n",
            "Mean Squared Error: 16.321513982787007\n"
          ]
        }
      ]
    },
    {
      "cell_type": "code",
      "source": [
        "# Predict on the test set\n",
        "y_pred = ridge.predict(X_test)\n",
        "\n",
        "# Plot predicted vs actual values\n",
        "plt.figure(figsize=(8, 6))\n",
        "plt.scatter(y_test, y_pred)\n",
        "plt.plot([min(y_test), max(y_test)], [min(y_test), max(y_test)], 'k--', lw=2)\n",
        "plt.xlabel('Actual Values')\n",
        "plt.ylabel('Predicted Values')\n",
        "plt.title('Actual vs Predicted Values (Ridge Regression)')\n",
        "plt.show()"
      ],
      "metadata": {
        "colab": {
          "base_uri": "https://localhost:8080/",
          "height": 564
        },
        "id": "G94TphCu489X",
        "outputId": "6453c557-3ced-4461-d40a-ab93938e1e80"
      },
      "execution_count": null,
      "outputs": [
        {
          "output_type": "display_data",
          "data": {
            "text/plain": [
              "<Figure size 800x600 with 1 Axes>"
            ],
            "image/png": "[encoded data removed]"
          },
          "metadata": {}
        }
      ]
    }
  ]
}